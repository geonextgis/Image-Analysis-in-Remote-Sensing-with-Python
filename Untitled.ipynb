{
 "cells": [
  {
   "cell_type": "markdown",
   "id": "ede167cf-823d-4f03-b36a-5662c8862b41",
   "metadata": {},
   "source": [
    "# **Reading Synthetic Aperture Radar Images from GEE**"
   ]
  },
  {
   "cell_type": "code",
   "execution_count": null,
   "id": "88e1ff43-4c9a-4d01-af04-065a83e6ab9b",
   "metadata": {},
   "outputs": [],
   "source": []
  }
 ],
 "metadata": {
  "kernelspec": {
   "display_name": "Python 3 (ipykernel)",
   "language": "python",
   "name": "python3"
  },
  "language_info": {
   "codemirror_mode": {
    "name": "ipython",
    "version": 3
   },
   "file_extension": ".py",
   "mimetype": "text/x-python",
   "name": "python",
   "nbconvert_exporter": "python",
   "pygments_lexer": "ipython3",
   "version": "3.10.10"
  }
 },
 "nbformat": 4,
 "nbformat_minor": 5
}
