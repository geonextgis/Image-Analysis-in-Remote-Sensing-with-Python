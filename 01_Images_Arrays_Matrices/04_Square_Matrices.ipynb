{
 "cells": [
  {
   "cell_type": "markdown",
   "id": "76d34a8a-4ff4-4aa8-95f3-041efed00e22",
   "metadata": {},
   "source": [
    "# **Square Matrices**\n",
    "**Author: Krishnagopal Halder**\n",
    "\n",
    "Square matrices are a fundamental concept in linear algebra, characterized by having an equal number of rows and columns. In other words, a square matrix has the same number of rows as it does columns, resulting in a shape that resembles a square. The size or order of a square matrix is typically denoted by a single positive integer, such as \"n\" or \"m,\" which represents both the number of rows and the number of columns."
   ]
  },
  {
   "cell_type": "markdown",
   "id": "3eca5c25-c89f-498c-9f14-ac3a6f1d6c33",
   "metadata": {},
   "source": [
    "## **01. Importing Required Libraries**"
   ]
  },
  {
   "cell_type": "code",
   "execution_count": 1,
   "id": "91d61404-0079-469e-a41f-6aaf1d6e28c3",
   "metadata": {
    "tags": []
   },
   "outputs": [],
   "source": [
    "import numpy as np\n",
    "import matplotlib.pyplot as plt\n",
    "import math"
   ]
  },
  {
   "cell_type": "markdown",
   "id": "b70e18aa-29eb-415c-a774-be2c07742397",
   "metadata": {},
   "source": [
    "## **02. Elementary Properties**"
   ]
  },
  {
   "cell_type": "markdown",
   "id": "ed5a2419-964b-4756-93a9-1eb90e56d74c",
   "metadata": {},
   "source": [
    "### **01. Creation of Square Matrix**"
   ]
  },
  {
   "cell_type": "code",
   "execution_count": 2,
   "id": "e17c5849-f64b-40be-af05-c5810b8552ed",
   "metadata": {
    "tags": []
   },
   "outputs": [
    {
     "data": {
      "text/plain": [
       "matrix([[1, 2],\n",
       "        [3, 4]])"
      ]
     },
     "execution_count": 2,
     "metadata": {},
     "output_type": "execute_result"
    }
   ],
   "source": [
    "# Creating a two dimensional square matrix\n",
    "A = np.mat([[1, 2], [3, 4]])\n",
    "# Printing the matrix\n",
    "A"
   ]
  },
  {
   "cell_type": "code",
   "execution_count": 3,
   "id": "85114b21-893f-4cff-b584-d865d9119f5b",
   "metadata": {
    "tags": []
   },
   "outputs": [
    {
     "data": {
      "text/plain": [
       "2"
      ]
     },
     "execution_count": 3,
     "metadata": {},
     "output_type": "execute_result"
    }
   ],
   "source": [
    "# Checking the dimension of the matrix A\n",
    "A.ndim"
   ]
  },
  {
   "cell_type": "markdown",
   "id": "2e7e0d8d-851b-4bc6-b9fb-333c759ab55f",
   "metadata": {},
   "source": [
    "### **02. Determinant of a Square Matrix**\n",
    "![](https://i.stack.imgur.com/4LrnA.gif)"
   ]
  },
  {
   "cell_type": "code",
   "execution_count": 4,
   "id": "3ae1f183-8d70-43b3-b552-9677ec3833f0",
   "metadata": {
    "tags": []
   },
   "outputs": [
    {
     "data": {
      "text/plain": [
       "-2.0000000000000004"
      ]
     },
     "execution_count": 4,
     "metadata": {},
     "output_type": "execute_result"
    }
   ],
   "source": [
    "# Calculating the determinant of 2x2 matrix A\n",
    "det_A = np.linalg.det(A)\n",
    "det_A"
   ]
  },
  {
   "cell_type": "code",
   "execution_count": 5,
   "id": "f7ef855b-036d-4f8f-b6f9-8cb7eacc0c65",
   "metadata": {
    "tags": []
   },
   "outputs": [
    {
     "data": {
      "image/png": "[encoded data removed]",
      "text/plain": [
       "<Figure size 500x500 with 1 Axes>"
      ]
     },
     "metadata": {},
     "output_type": "display_data"
    }
   ],
   "source": [
    "# Visualization\n",
    "plt.figure(figsize=(5, 5))\n",
    "plt.quiver(0, 0, 1, 0, angles=\"xy\", scale_units=\"xy\", scale=1, color=\"red\", label=\"i (Unit Vector)\")\n",
    "plt.quiver(0, 0, 0, 1, angles=\"xy\", scale_units=\"xy\", scale=1, color=\"green\", label=\"j (Unit Vector)\")\n",
    "plt.quiver(0, 0, 1, 2, angles=\"xy\", scale_units=\"xy\", scale=1, color=\"blue\", label=\"Transformed i\")\n",
    "plt.quiver(0, 0, 3, 4, angles=\"xy\", scale_units=\"xy\", scale=1, color=\"orange\", label=\"Transformed j\")\n",
    "plt.xlim([-4, 5])\n",
    "plt.ylim([-4, 5])\n",
    "plt.legend(loc=\"lower right\")\n",
    "plt.grid()"
   ]
  },
  {
   "cell_type": "code",
   "execution_count": 6,
   "id": "aa121ffb-84f3-46d6-bc7c-a276f94d91a5",
   "metadata": {
    "tags": []
   },
   "outputs": [
    {
     "data": {
      "text/plain": [
       "27.0"
      ]
     },
     "execution_count": 6,
     "metadata": {},
     "output_type": "execute_result"
    }
   ],
   "source": [
    "# Calculating the determinant of a 3x3 matrix B\n",
    "B = np.mat([[1, 0, 2], [4, 2, 1], [3, 5, 2]])\n",
    "det_B = np.linalg.det(B)\n",
    "det_B"
   ]
  },
  {
   "cell_type": "markdown",
   "id": "19398b8a-221c-4f5f-a59d-e18824164f6d",
   "metadata": {},
   "source": [
    "### **03. Properties of the Determinant**"
   ]
  },
  {
   "cell_type": "code",
   "execution_count": 7,
   "id": "ee3585c3-048c-4ba0-a7c8-7bad31d07c1c",
   "metadata": {
    "tags": []
   },
   "outputs": [
    {
     "data": {
      "text/plain": [
       "matrix([[2, 1],\n",
       "        [3, 5]])"
      ]
     },
     "execution_count": 7,
     "metadata": {},
     "output_type": "execute_result"
    }
   ],
   "source": [
    "# Creating another 2x2 square matrix B\n",
    "B = np.mat([[2, 1], [3, 5]])\n",
    "B"
   ]
  },
  {
   "cell_type": "code",
   "execution_count": 8,
   "id": "039c54a3-09e5-4fdd-ae1d-4dc456b2e3d6",
   "metadata": {
    "tags": []
   },
   "outputs": [
    {
     "data": {
      "text/plain": [
       "matrix([[ 5,  8],\n",
       "        [18, 26]])"
      ]
     },
     "execution_count": 8,
     "metadata": {},
     "output_type": "execute_result"
    }
   ],
   "source": [
    "# The determinant has the property, |AB| = |A||B|\n",
    "AB = B * A\n",
    "AB"
   ]
  },
  {
   "cell_type": "code",
   "execution_count": 9,
   "id": "ca51aa43-ddc0-4a20-a0f6-d3d4c41ef239",
   "metadata": {
    "tags": []
   },
   "outputs": [
    {
     "data": {
      "text/plain": [
       "-13.999999999999996"
      ]
     },
     "execution_count": 9,
     "metadata": {},
     "output_type": "execute_result"
    }
   ],
   "source": [
    "# Calculating the determinant of AB matrix\n",
    "det_AB = np.linalg.det(AB)\n",
    "det_AB"
   ]
  },
  {
   "cell_type": "code",
   "execution_count": 10,
   "id": "84562de9-ad11-4e85-9e7d-e034537bc2df",
   "metadata": {
    "tags": []
   },
   "outputs": [
    {
     "data": {
      "text/plain": [
       "6.999999999999999"
      ]
     },
     "execution_count": 10,
     "metadata": {},
     "output_type": "execute_result"
    }
   ],
   "source": [
    "# Calculating the determinant of B\n",
    "det_B = np.linalg.det(B)\n",
    "det_B"
   ]
  },
  {
   "cell_type": "code",
   "execution_count": 11,
   "id": "68c2c978-5200-4083-b92d-fec7d50af86e",
   "metadata": {
    "tags": []
   },
   "outputs": [
    {
     "data": {
      "text/plain": [
       "True"
      ]
     },
     "execution_count": 11,
     "metadata": {},
     "output_type": "execute_result"
    }
   ],
   "source": [
    "# Proving the property, |AB| = |A||B|\n",
    "round(det_AB) == round(det_A * det_B)"
   ]
  },
  {
   "cell_type": "code",
   "execution_count": 12,
   "id": "1cae0fec-8367-46b7-a2e0-54a3a50ef4e7",
   "metadata": {
    "tags": []
   },
   "outputs": [
    {
     "data": {
      "text/plain": [
       "matrix([[1, 3],\n",
       "        [2, 4]])"
      ]
     },
     "execution_count": 12,
     "metadata": {},
     "output_type": "execute_result"
    }
   ],
   "source": [
    "# The determinant has the property, |A.T| = |A|\n",
    "# Calculating the transpose of A\n",
    "trans_A = A.T\n",
    "trans_A"
   ]
  },
  {
   "cell_type": "code",
   "execution_count": 13,
   "id": "2c292692-2dd2-486b-82d0-f21463aab397",
   "metadata": {
    "tags": []
   },
   "outputs": [
    {
     "data": {
      "text/plain": [
       "True"
      ]
     },
     "execution_count": 13,
     "metadata": {},
     "output_type": "execute_result"
    }
   ],
   "source": [
    "# Proving the property, |A.T| = |A|\n",
    "round(np.linalg.det(trans_A)) == round(np.linalg.det(A))"
   ]
  },
  {
   "cell_type": "markdown",
   "id": "6d0c48dd-7cd1-4c61-8466-d2bc56ae9cf9",
   "metadata": {},
   "source": [
    "### **04. Identity Matrix**\n",
    "<center><img src=\"https://images.deepai.org/glossary-terms/038fe0cc858f49179700a6973ea97dab/identity1.gif\" style=\"max-width:450px; height:auto\"></center>"
   ]
  },
  {
   "cell_type": "code",
   "execution_count": 14,
   "id": "e6b80d89-4ca2-4976-bb9b-74035cc7dedb",
   "metadata": {
    "tags": []
   },
   "outputs": [
    {
     "data": {
      "text/plain": [
       "array([[1, 0],\n",
       "       [0, 1]], dtype=int8)"
      ]
     },
     "execution_count": 14,
     "metadata": {},
     "output_type": "execute_result"
    }
   ],
   "source": [
    "# Creating an identity matrix\n",
    "identity = np.identity(2, dtype=\"int8\")\n",
    "identity"
   ]
  },
  {
   "cell_type": "markdown",
   "id": "7e0edf92-49bd-44e1-8761-4bace931014a",
   "metadata": {},
   "source": [
    "### **05. Properties of Identity Matrix**"
   ]
  },
  {
   "cell_type": "code",
   "execution_count": 15,
   "id": "743d8462-5540-4399-885b-92e95b414b79",
   "metadata": {
    "tags": []
   },
   "outputs": [
    {
     "data": {
      "text/plain": [
       "matrix([[1, 2],\n",
       "        [3, 4]])"
      ]
     },
     "execution_count": 15,
     "metadata": {},
     "output_type": "execute_result"
    }
   ],
   "source": [
    "# For any A, IA = AI = A\n",
    "IA = identity * A\n",
    "IA"
   ]
  },
  {
   "cell_type": "code",
   "execution_count": 16,
   "id": "414f66ae-c3e0-4f61-be21-e77023d435b2",
   "metadata": {
    "tags": []
   },
   "outputs": [
    {
     "data": {
      "text/plain": [
       "matrix([[1, 2],\n",
       "        [3, 4]])"
      ]
     },
     "execution_count": 16,
     "metadata": {},
     "output_type": "execute_result"
    }
   ],
   "source": [
    "AI = A * identity\n",
    "AI"
   ]
  },
  {
   "cell_type": "code",
   "execution_count": 17,
   "id": "40195350-b2ab-4937-bac4-7cd4c274ef4e",
   "metadata": {
    "tags": []
   },
   "outputs": [
    {
     "name": "stdout",
     "output_type": "stream",
     "text": [
      "IA is AI:\n",
      " [[ True  True]\n",
      " [ True  True]]\n",
      "AI is A:\n",
      " [[ True  True]\n",
      " [ True  True]]\n"
     ]
    }
   ],
   "source": [
    "# Proving the property\n",
    "print(\"IA is AI:\\n\", IA == AI)\n",
    "print(\"AI is A:\\n\", AI == A)"
   ]
  }
 ],
 "metadata": {
  "kernelspec": {
   "display_name": "Python 3 (ipykernel)",
   "language": "python",
   "name": "python3"
  },
  "language_info": {
   "codemirror_mode": {
    "name": "ipython",
    "version": 3
   },
   "file_extension": ".py",
   "mimetype": "text/x-python",
   "name": "python",
   "nbconvert_exporter": "python",
   "pygments_lexer": "ipython3",
   "version": "3.10.9"
  }
 },
 "nbformat": 4,
 "nbformat_minor": 5
}
