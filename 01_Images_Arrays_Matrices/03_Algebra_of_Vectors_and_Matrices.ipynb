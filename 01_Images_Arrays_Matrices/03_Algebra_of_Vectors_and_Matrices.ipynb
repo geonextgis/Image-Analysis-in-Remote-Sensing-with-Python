{
 "cells": [
  {
   "cell_type": "markdown",
   "metadata": {},
   "source": [
    "# **Algebra of Vectors and Matrices**\n",
    "**Author: Krishnagopal Halder**\n",
    "\n",
    "## **01. Introduction to Vectors**\n",
    "In linear algebra, vectors are fundamental objects used to represent quantities that have both magnitude and direction. A vector can be thought of as an ordered collection of numbers, known as components or coordinates, arranged in a specific order. Each component of a vector represents a coordinate along a particular dimension in a coordinate system. The number of components in a vector determines its dimensionality.\n",
    "\n",
    "Vectors are commonly denoted by lowercase bold letters, such as **v** or **u**, or by lowercase letters with an arrow on top, such as ẋ or ẏ. For example, in a two-dimensional space, a vector **x** can be represented as **x** = [x₁, x₂], where x₁ and x₂ are the components of **x** along the x and y axes, respectively."
   ]
  },
  {
   "cell_type": "markdown",
   "metadata": {},
   "source": [
    "<center><img src=\"https://media5.datahacker.rs/2020/03/Picture36-1-1024x949.jpg\" style=\"max-width:300px; height:auto\"></center>"
   ]
  },
  {
   "cell_type": "markdown",
   "metadata": {},
   "source": [
    "**Vector Representation of Multispectral Image Pixel:** <br>\n",
    "It is very convenient, in fact essential, to use a vector representation for multispectral or SAR image pixels. A pixel can be represented in the form"
   ]
  },
  {
   "cell_type": "markdown",
   "metadata": {},
   "source": [
    "<center>$\\boldsymbol{g}(i, j)=\\left(\\begin{array}{c}g_1(i, j) \\\\ \\vdots \\\\ g_N(i, j)\\end{array}\\right)$</center>"
   ]
  },
  {
   "cell_type": "markdown",
   "metadata": {},
   "source": [
    "which is understood to be a column vector of spectral intensities or gray-scale \n",
    "values at the imag  position (i, j). It can be thought of as a point in N-dimensional Euclidean space, commonly referred to as input space or featur space."
   ]
  },
  {
   "cell_type": "markdown",
   "metadata": {},
   "source": [
    "## **Importing Required Libraries**"
   ]
  },
  {
   "cell_type": "code",
   "execution_count": 1,
   "metadata": {
    "tags": []
   },
   "outputs": [],
   "source": [
    "import numpy as np\n",
    "import math\n",
    "import matplotlib.pyplot as plt"
   ]
  },
  {
   "cell_type": "markdown",
   "metadata": {},
   "source": [
    "## **Elementary Properties**"
   ]
  },
  {
   "cell_type": "markdown",
   "metadata": {
    "tags": []
   },
   "source": [
    "Consider two column vector with two components, $\\boldsymbol{x}=\\left(\\begin{array}{l}x_1 \\\\ x_2\\end{array}\\right)$ and $\\boldsymbol{y}=\\left(\\begin{array}{l}y_1 \\\\ y_2\\end{array}\\right)$\n",
    "\n",
    "The **transpose** of the vector $\\boldsymbol{x}$ is a row vector, $\\boldsymbol{x}^{\\top}=\\left(x_1, x_2\\right)$\n",
    "\n",
    "The sum of two colum vector is given by, $\\boldsymbol{x}+\\boldsymbol{y}=\\left(\\begin{array}{l}x_1 \\\\ x_2\\end{array}\\right)+\\left(\\begin{array}{l}y_1 \\\\ y_2\\end{array}\\right)=\\left(\\begin{array}{l}x_1+y_1 \\\\ x_2+y_2\\end{array}\\right)$"
   ]
  },
  {
   "cell_type": "code",
   "execution_count": 2,
   "metadata": {
    "tags": []
   },
   "outputs": [],
   "source": [
    "# Creating two column vector with two components\n",
    "X = np.array([[1], [2]])\n",
    "Y = np.array([[3], [4]])"
   ]
  },
  {
   "cell_type": "code",
   "execution_count": 3,
   "metadata": {
    "tags": []
   },
   "outputs": [
    {
     "data": {
      "text/plain": [
       "(array([[1],\n",
       "        [2]]),\n",
       " array([[3],\n",
       "        [4]]))"
      ]
     },
     "execution_count": 3,
     "metadata": {},
     "output_type": "execute_result"
    }
   ],
   "source": [
    "# Printing the vectors\n",
    "X, Y"
   ]
  },
  {
   "cell_type": "code",
   "execution_count": 4,
   "metadata": {
    "tags": []
   },
   "outputs": [
    {
     "data": {
      "text/plain": [
       "array([[1, 2]])"
      ]
     },
     "execution_count": 4,
     "metadata": {},
     "output_type": "execute_result"
    }
   ],
   "source": [
    "# Transpose of X vector\n",
    "X.T"
   ]
  },
  {
   "cell_type": "code",
   "execution_count": 5,
   "metadata": {
    "tags": []
   },
   "outputs": [
    {
     "data": {
      "text/plain": [
       "array([[4],\n",
       "       [6]])"
      ]
     },
     "execution_count": 5,
     "metadata": {},
     "output_type": "execute_result"
    }
   ],
   "source": [
    "# Sum of two column vectors X and Y\n",
    "Z = X + Y\n",
    "Z"
   ]
  },
  {
   "cell_type": "code",
   "execution_count": 6,
   "metadata": {
    "tags": []
   },
   "outputs": [
    {
     "data": {
      "image/png": "[encoded data removed]",
      "text/plain": [
       "<Figure size 500x500 with 1 Axes>"
      ]
     },
     "metadata": {},
     "output_type": "display_data"
    }
   ],
   "source": [
    "# Plotting the vectors\n",
    "fig, ax = plt.subplots(figsize=(5, 5))\n",
    "ax.quiver(0, 0, X[0], X[1], angles=\"xy\", scale_units=\"xy\", scale=1, color=\"red\")\n",
    "ax.quiver(0, 0, Y[0], Y[1], angles=\"xy\", scale_units=\"xy\", scale=1, color=\"green\")\n",
    "ax.quiver(0, 0, Z[0], Z[1], angles=\"xy\", scale_units=\"xy\", scale=1, color=\"blue\")\n",
    "ax.set_xlim([0, 5])\n",
    "ax.set_ylim([0, 7])\n",
    "ax.grid()"
   ]
  },
  {
   "cell_type": "markdown",
   "metadata": {},
   "source": [
    "In linear algebra, the **inner product** (also known as the **dot product** or **scalar product**) is an operation that takes two vectors and produces a scalar value. \n",
    "$\\boldsymbol{x}^{\\top} \\boldsymbol{y}=\\left(x_1, x_2\\right)\\left(\\begin{array}{l}y_1 \\\\ y_2\\end{array}\\right)=x_1 y_1+x_2 y_2$"
   ]
  },
  {
   "cell_type": "code",
   "execution_count": 7,
   "metadata": {
    "tags": []
   },
   "outputs": [
    {
     "data": {
      "text/plain": [
       "array([[11]])"
      ]
     },
     "execution_count": 7,
     "metadata": {},
     "output_type": "execute_result"
    }
   ],
   "source": [
    "# Dot product of two vectors\n",
    "dot_product = (X.T).dot(Y)\n",
    "dot_product"
   ]
  },
  {
   "cell_type": "markdown",
   "metadata": {},
   "source": [
    "The **length of a vector**, also known as its magnitude or norm, is a measure of its size or magnitude. The length of a vector $\\boldsymbol{x}$, denoted as $\\|\\boldsymbol{x}\\|$, is calculated using the Euclidean norm or 2-norm.<br>\n",
    "$\\|\\boldsymbol{x}\\|=\\sqrt{x_1^2+x_2^2}=\\sqrt{\\boldsymbol{x}^{\\top} \\boldsymbol{x}}$"
   ]
  },
  {
   "cell_type": "markdown",
   "metadata": {},
   "source": [
    "<center><img src=\"https://cdn1.byjus.com/wp-content/uploads/2019/03/magnitude-of-a-vector.png\" style=\"max-width: 450px; height:auto\"></center>"
   ]
  },
  {
   "cell_type": "code",
   "execution_count": 8,
   "metadata": {
    "tags": []
   },
   "outputs": [],
   "source": [
    "# Function to calculate length / magnitude of a vector \n",
    "def magnitude(vector):\n",
    "    return math.sqrt(sum(pow(component, 2) for component in vector))"
   ]
  },
  {
   "cell_type": "code",
   "execution_count": 9,
   "metadata": {
    "tags": []
   },
   "outputs": [
    {
     "data": {
      "text/plain": [
       "2.23606797749979"
      ]
     },
     "execution_count": 9,
     "metadata": {},
     "output_type": "execute_result"
    }
   ],
   "source": [
    "# Magnitude of X vector\n",
    "magnitude(X)"
   ]
  },
  {
   "cell_type": "markdown",
   "metadata": {},
   "source": [
    "The **inner product** of $\\boldsymbol{x}$ and $\\boldsymbol{y}$ can be expressed in terms of the vector lengths and the angle θ between the two vectors:<br>\n",
    "$\\boldsymbol{x}^{\\top} \\boldsymbol{y}=\\|\\boldsymbol{x}\\|\\|\\boldsymbol{y}\\| \\cos \\theta$ <br>\n",
    "If θ = 90°, the vectors are said to be orthogonal, in which case $\\boldsymbol{x}^{\\top} \\boldsymbol{y}$ = 0."
   ]
  },
  {
   "cell_type": "code",
   "execution_count": 10,
   "metadata": {
    "tags": []
   },
   "outputs": [],
   "source": [
    "# Function to calculate angle between two vectors\n",
    "def angle(v1, v2):\n",
    "    mag_v1 = np.linalg.norm(v1)\n",
    "    mag_v2 = np.linalg.norm(v2)\n",
    "    trans_v1 = v1.T\n",
    "    arc_cos = math.acos((trans_v1.dot(v2)/(mag_v1 * mag_v2)))\n",
    "    return arc_cos"
   ]
  },
  {
   "cell_type": "code",
   "execution_count": 11,
   "metadata": {
    "tags": []
   },
   "outputs": [
    {
     "name": "stdout",
     "output_type": "stream",
     "text": [
      "Angle in Radian: 0.17985349979247847\n",
      "Angle in Degree: 10.304846468766044\n"
     ]
    }
   ],
   "source": [
    "# Angle between vector X and Y in degree\n",
    "print(f\"Angle in Radian: {angle(X, Y)}\")\n",
    "print(f\"Angle in Degree: {angle(X, Y) * (180 / math.pi)}\")"
   ]
  },
  {
   "cell_type": "code",
   "execution_count": 12,
   "metadata": {
    "tags": []
   },
   "outputs": [
    {
     "data": {
      "text/plain": [
       "11.0"
      ]
     },
     "execution_count": 12,
     "metadata": {},
     "output_type": "execute_result"
    }
   ],
   "source": [
    "# Dot product of two vectors\n",
    "dot_product = (np.linalg.norm(X) * np.linalg.norm(Y)) * math.cos(angle(X, Y))\n",
    "dot_product"
   ]
  },
  {
   "cell_type": "markdown",
   "metadata": {},
   "source": [
    "Any vector can be expressed in terms of orthogonal unit vectors,e.g.,<br>\n",
    "$\\boldsymbol{x}=\\left(\\begin{array}{l}x_1 \\\\ x_2\\end{array}\\right)=x_1\\left(\\begin{array}{l}1 \\\\ 0\\end{array}\\right)+x_2\\left(\\begin{array}{l}0 \\\\ 1\\end{array}\\right)=x_1 \\boldsymbol{i}+x_2 \\boldsymbol{j}$"
   ]
  },
  {
   "cell_type": "code",
   "execution_count": 13,
   "metadata": {
    "tags": []
   },
   "outputs": [],
   "source": [
    "# Creating two unit vector\n",
    "i = np.array([[1], [0]])\n",
    "j = np.array([[0], [1]])"
   ]
  },
  {
   "cell_type": "code",
   "execution_count": 14,
   "metadata": {
    "tags": []
   },
   "outputs": [
    {
     "data": {
      "text/plain": [
       "array([[ True],\n",
       "       [ True]])"
      ]
     },
     "execution_count": 14,
     "metadata": {},
     "output_type": "execute_result"
    }
   ],
   "source": [
    "X == (X * i) + (X * j)"
   ]
  },
  {
   "cell_type": "markdown",
   "metadata": {},
   "source": [
    "## **02. Introduction to Matrices**\n",
    "A matrix is a rectangular array of numbers or elements arranged in rows and columns. Matrices are fundamental objects in linear algebra and are used to represent and manipulate data in various fields, including mathematics, physics, computer science, and data analysis.\n",
    "\n",
    "The dimensions of a matrix are given by the number of rows and columns it contains. A matrix with m rows and n columns is called an m×n matrix. The individual elements in a matrix are typically denoted by lowercase letters with subscripts to indicate their position in the matrix. For example, in a 2×2 matrix $\\boldsymbol{A}$, the element in the second row and first column is denoted as $a_{21}$. A 2×2 matrix is written in the form\n",
    "<center>$\\boldsymbol{A}=\\left(\\begin{array}{ll}a_{11} & a_{12} \\\\ a_{21} & a_{22}\\end{array}\\right)$</center>\n",
    "<br>\n",
    "The first index of a matrix element indicates its row, the second its column. Numerical Python (Python plus NumPy) indexes two-dimensional array and matrix objects in this way. When a matrix is multiplied with a vector, the result is another vector, e.g., \n",
    "<br>\n",
    "<br>\n",
    "<center>$ \\boldsymbol{A} = \\begin{bmatrix} a_{11} & a_{12} \\\\ a_{21} & a_{22} \\\\ \\end{bmatrix} \\quad \\mathbf{x} = \\begin{bmatrix} x_1 \\\\ x_2 \\\\ \\end{bmatrix}$</center><br>\n",
    "\n",
    "<center>$\\boldsymbol{A}\\mathbf{x} = \\begin{bmatrix} a_{11}x_1 + a_{12}x_2 \\\\ a_{21}x_1 + a_{22}x_2 \\\\ \\end{bmatrix}$</center>"
   ]
  },
  {
   "cell_type": "code",
   "execution_count": 15,
   "metadata": {
    "tags": []
   },
   "outputs": [],
   "source": [
    "# Creating a matrix A\n",
    "A = np.mat([[1, 2], [3, 4]])\n",
    "# Creating a vector X\n",
    "X = np.array([[1], [2]])"
   ]
  },
  {
   "cell_type": "code",
   "execution_count": 16,
   "metadata": {
    "tags": []
   },
   "outputs": [
    {
     "data": {
      "text/plain": [
       "(matrix([[1, 2],\n",
       "         [3, 4]]),\n",
       " array([[1],\n",
       "        [2]]))"
      ]
     },
     "execution_count": 16,
     "metadata": {},
     "output_type": "execute_result"
    }
   ],
   "source": [
    "# Printing the matrix and vector\n",
    "A, X"
   ]
  },
  {
   "cell_type": "code",
   "execution_count": 17,
   "metadata": {
    "tags": []
   },
   "outputs": [
    {
     "data": {
      "text/plain": [
       "matrix([[ 5],\n",
       "        [11]])"
      ]
     },
     "execution_count": 17,
     "metadata": {},
     "output_type": "execute_result"
    }
   ],
   "source": [
    "# Multiplying a matrix with a vector\n",
    "A * X"
   ]
  },
  {
   "cell_type": "markdown",
   "metadata": {},
   "source": [
    "The **product of two 2×2 matrices** is given by<br>\n",
    "<center>$\\boldsymbol{A} = \\begin{bmatrix} a_{11} & a_{12} \\\\ a_{21} & a_{22} \\\\ \\end{bmatrix} \\quad B = \\begin{bmatrix} b_{11} & b_{12} \\\\ b_{21} & b_{22} \\\\ \\end{bmatrix}$</center><br>\n",
    "\n",
    "<center>$\\boldsymbol{AB} = \\begin{bmatrix} a_{11}b_{11} + a_{12}b_{21} & a_{11}b_{12} + a_{12}b_{22} \\\\ a_{21}b_{11} + a_{22}b_{21} & a_{21}b_{12} + a_{22}b_{22} \\\\ \\end{bmatrix}$</center>\n",
    "<br>\n",
    "and is another matrix. More generally, the matrix product $\\boldsymbol{AB}$ is allowed whenever $\\boldsymbol{A}$ has the same number of columns as $\\boldsymbol{B}$ has rows. So if $\\boldsymbol{A}$ has\n",
    "dimension ℓ×m and $\\boldsymbol{B}$ has dimension m×n, then $\\boldsymbol{AB}$ is ℓ×n with elements"
   ]
  },
  {
   "cell_type": "code",
   "execution_count": 18,
   "metadata": {
    "tags": []
   },
   "outputs": [
    {
     "data": {
      "text/plain": [
       "matrix([[3, 4],\n",
       "        [2, 1]])"
      ]
     },
     "execution_count": 18,
     "metadata": {},
     "output_type": "execute_result"
    }
   ],
   "source": [
    "# Creating another matrix B\n",
    "B = np.mat([[3, 4], [2, 1]])\n",
    "B"
   ]
  },
  {
   "cell_type": "code",
   "execution_count": 19,
   "metadata": {
    "tags": []
   },
   "outputs": [
    {
     "data": {
      "text/plain": [
       "matrix([[4, 6],\n",
       "        [5, 5]])"
      ]
     },
     "execution_count": 19,
     "metadata": {},
     "output_type": "execute_result"
    }
   ],
   "source": [
    "# Sum of two 2x2 matrices\n",
    "A + B"
   ]
  }
 ],
 "metadata": {
  "kernelspec": {
   "display_name": "Python 3 (ipykernel)",
   "language": "python",
   "name": "python3"
  },
  "language_info": {
   "codemirror_mode": {
    "name": "ipython",
    "version": 3
   },
   "file_extension": ".py",
   "mimetype": "text/x-python",
   "name": "python",
   "nbconvert_exporter": "python",
   "pygments_lexer": "ipython3",
   "version": "3.10.9"
  }
 },
 "nbformat": 4,
 "nbformat_minor": 4
}
