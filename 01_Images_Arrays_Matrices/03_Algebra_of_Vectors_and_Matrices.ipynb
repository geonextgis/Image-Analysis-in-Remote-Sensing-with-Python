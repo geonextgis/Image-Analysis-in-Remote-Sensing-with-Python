{
 "cells": [
  {
   "cell_type": "markdown",
   "id": "1a7c5bb8-6942-4b97-bcb3-355e9485427a",
   "metadata": {},
   "source": [
    "# **Algebra of Vectors and Matrices**\n",
    "**Author: Krishnagopal Halder**"
   ]
  },
  {
   "cell_type": "markdown",
   "id": "cdac3b54-3088-4625-8d3f-e66d11ac7f06",
   "metadata": {},
   "source": [
    "## **01. Importing Required Libraries**"
   ]
  },
  {
   "cell_type": "code",
   "execution_count": 1,
   "id": "79050d98-d59e-44b4-9fc8-c88870bb48e9",
   "metadata": {
    "tags": []
   },
   "outputs": [],
   "source": [
    "import numpy as np\n",
    "import math\n",
    "import matplotlib.pyplot as plt"
   ]
  },
  {
   "cell_type": "markdown",
   "id": "4bfb5fa6-4466-4aef-babf-7383a271c119",
   "metadata": {
    "tags": []
   },
   "source": [
    "## **02. Introduction to Vectors**\n",
    "In linear algebra, vectors are fundamental objects used to represent quantities that have both magnitude and direction. A vector can be thought of as an ordered collection of numbers, known as components or coordinates, arranged in a specific order. Each component of a vector represents a coordinate along a particular dimension in a coordinate system. The number of components in a vector determines its dimensionality.\n",
    "\n",
    "Vectors are commonly denoted by lowercase bold letters, such as **v** or **u**, or by lowercase letters with an arrow on top, such as ẋ or ẏ. For example, in a two-dimensional space, a vector **x** can be represented as **x** = [x₁, x₂], where x₁ and x₂ are the components of **x** along the x and y axes, respectively."
   ]
  },
  {
   "cell_type": "markdown",
   "id": "5c60a94f-ac11-4da3-8b26-28a89e6cb583",
   "metadata": {},
   "source": [
    "<center><img src=\"https://media5.datahacker.rs/2020/03/Picture36-1-1024x949.jpg\" style=\"max-width:300px; height:auto\"></center>"
   ]
  },
  {
   "cell_type": "markdown",
   "id": "e3e8d9d3-b33e-491a-a4cd-9b0c01c7d188",
   "metadata": {},
   "source": [
    "### **Elementary Properties**"
   ]
  },
  {
   "cell_type": "markdown",
   "id": "1d2f7364-14e0-46b0-8d07-c0aa3292fb05",
   "metadata": {},
   "source": [
    "#### **01. Vector Creation**"
   ]
  },
  {
   "cell_type": "code",
   "execution_count": 2,
   "id": "a3d3a989-3bfd-4e32-877e-3ac2b5db882d",
   "metadata": {
    "tags": []
   },
   "outputs": [
    {
     "name": "stdout",
     "output_type": "stream",
     "text": [
      "2\n"
     ]
    },
    {
     "data": {
      "text/plain": [
       "array([[1],\n",
       "       [2]])"
      ]
     },
     "execution_count": 2,
     "metadata": {},
     "output_type": "execute_result"
    }
   ],
   "source": [
    "# Creating a two dimensional vector\n",
    "x = np.array([[1], [2]])\n",
    "# Checking the dimension\n",
    "print(x.ndim)\n",
    "# Printing the x\n",
    "x"
   ]
  },
  {
   "cell_type": "markdown",
   "id": "6e0f31cc-17e7-4490-940b-623d3e749cf9",
   "metadata": {},
   "source": [
    "#### **02. Sum of Two Column Vectors**"
   ]
  },
  {
   "cell_type": "code",
   "execution_count": 3,
   "id": "71da659a-8f2b-417c-b70b-14598d43cd3f",
   "metadata": {
    "tags": []
   },
   "outputs": [],
   "source": [
    "# Creating another two dimensional vector\n",
    "y = np.array([[3], [4]])\n",
    "# Adding two vector x and y\n",
    "z = x + y"
   ]
  },
  {
   "cell_type": "code",
   "execution_count": 4,
   "id": "fdb7122d-94fd-4df7-a15f-9d57c7ae7ed4",
   "metadata": {
    "tags": []
   },
   "outputs": [
    {
     "data": {
      "image/png": "[encoded data removed]",
      "text/plain": [
       "<Figure size 600x400 with 1 Axes>"
      ]
     },
     "metadata": {},
     "output_type": "display_data"
    }
   ],
   "source": [
    "# Plotting all the vectors x, y, z\n",
    "plt.figure(figsize=(6, 4))\n",
    "plt.quiver(0, 0, x[0], x[1], angles=\"xy\", scale_units=\"xy\", scale=1, color=\"red\", label=\"x\")\n",
    "plt.quiver(0, 0, y[0], y[1], angles=\"xy\", scale_units=\"xy\", scale=1, color=\"green\", label=\"y\")\n",
    "plt.quiver(0, 0, z[0], z[1], angles=\"xy\", scale_units=\"xy\", scale=1, color=\"blue\", label=\"z or (x+y)\")\n",
    "plt.xlim([0, 5])\n",
    "plt.ylim([0, 7])\n",
    "plt.grid()\n",
    "plt.legend(loc=\"lower right\")\n",
    "plt.show()"
   ]
  },
  {
   "cell_type": "markdown",
   "id": "0366f717-15fd-49b2-a386-ef8607738fe9",
   "metadata": {},
   "source": [
    "#### **03. Transpose of a Column Vector**"
   ]
  },
  {
   "cell_type": "code",
   "execution_count": 5,
   "id": "7b9ff02a-325d-4170-8b82-f3f9c8514a2f",
   "metadata": {
    "tags": []
   },
   "outputs": [
    {
     "data": {
      "text/plain": [
       "array([[1, 2]])"
      ]
     },
     "execution_count": 5,
     "metadata": {},
     "output_type": "execute_result"
    }
   ],
   "source": [
    "# Transpose of x\n",
    "x.T"
   ]
  },
  {
   "cell_type": "markdown",
   "id": "7e5bad81-1d2a-4c1c-a6b5-86ffc16c893c",
   "metadata": {},
   "source": [
    "#### **04. Length or Euclidean Norm of a Vector**"
   ]
  },
  {
   "cell_type": "code",
   "execution_count": 6,
   "id": "b0ffe730-812b-453c-9e63-1c70cb6cd732",
   "metadata": {
    "tags": []
   },
   "outputs": [
    {
     "name": "stdout",
     "output_type": "stream",
     "text": [
      "Length of x: 2.2361\n"
     ]
    }
   ],
   "source": [
    "# Calculating length of vector x\n",
    "len_x = np.linalg.norm(x)\n",
    "print(\"Length of x:\", round(len_x, 4))"
   ]
  },
  {
   "cell_type": "markdown",
   "id": "961385f6-a601-4f6d-a58b-ce4949eeb3dd",
   "metadata": {},
   "source": [
    "#### **05. Inner Product or Dot Product of Two Vectors**\n",
    "<center><img src=\"https://i.stack.imgur.com/yxY6H.gif\" style=\"max-width:350px; height:auto\"></center>"
   ]
  },
  {
   "cell_type": "code",
   "execution_count": 7,
   "id": "ae41b5ed-1ab7-499d-8e9d-e65e4abb0769",
   "metadata": {
    "tags": []
   },
   "outputs": [
    {
     "data": {
      "text/plain": [
       "array([[11]])"
      ]
     },
     "execution_count": 7,
     "metadata": {},
     "output_type": "execute_result"
    }
   ],
   "source": [
    "# Calculating the dot product between x and y\n",
    "dot_product = (x.T).dot(y)\n",
    "dot_product"
   ]
  },
  {
   "cell_type": "code",
   "execution_count": 8,
   "id": "37adca0b-179b-4c4f-ad15-3c32c1829fec",
   "metadata": {
    "tags": []
   },
   "outputs": [
    {
     "data": {
      "text/plain": [
       "array([[11]])"
      ]
     },
     "execution_count": 8,
     "metadata": {},
     "output_type": "execute_result"
    }
   ],
   "source": [
    "x.T.dot(y)"
   ]
  },
  {
   "cell_type": "code",
   "execution_count": 9,
   "id": "bbd99038-b435-4678-a22f-b07f3e45a78e",
   "metadata": {
    "tags": []
   },
   "outputs": [
    {
     "name": "stdout",
     "output_type": "stream",
     "text": [
      "Angle between x and y: 0.1799\n",
      "Angle between x and y in Degree: 10.3048\n"
     ]
    }
   ],
   "source": [
    "# Calculating the dot product by using angle between two vectors\n",
    "# Creating a function to calculate angle between two vectors\n",
    "def angle(v1, v2):\n",
    "    len_v1 = np.linalg.norm(v1)\n",
    "    len_v2 = np.linalg.norm(v2)\n",
    "    dot_product = (v1.T).dot(v2)\n",
    "    arc_cos = math.acos(dot_product / (len_v1 * len_v2)) # angle in radian\n",
    "    return arc_cos\n",
    "\n",
    "# Deriving the angle between x and y\n",
    "angle = angle(x, y)\n",
    "print(\"Angle between x and y:\", round(angle, 4))\n",
    "print(\"Angle between x and y in Degree:\", round(angle * (180 / math.pi), 4))"
   ]
  },
  {
   "cell_type": "code",
   "execution_count": 10,
   "id": "42faee06-2f6f-480c-a5cf-d5abb45c714a",
   "metadata": {
    "tags": []
   },
   "outputs": [
    {
     "data": {
      "text/plain": [
       "11.0"
      ]
     },
     "execution_count": 10,
     "metadata": {},
     "output_type": "execute_result"
    }
   ],
   "source": [
    "# Calculating dot product\n",
    "dot_product = np.linalg.norm(x) * np.linalg.norm(y) * math.cos(angle)\n",
    "dot_product"
   ]
  },
  {
   "cell_type": "markdown",
   "id": "dbe09b7e-894f-4b05-8c45-1965d1f9a77a",
   "metadata": {},
   "source": [
    "#### **06. Vector Representation in terms of Orthogonal Unit Vectors**\n",
    "<center><img src=\"https://qph.cf2.quoracdn.net/main-qimg-9d1a2481c20bf8720bae101817dc6e4b\" style=\"max-width:650x; height: auto\"></center>"
   ]
  },
  {
   "cell_type": "code",
   "execution_count": 11,
   "id": "e2b7597d-16bd-4093-9a6e-c44458742d1b",
   "metadata": {
    "tags": []
   },
   "outputs": [
    {
     "data": {
      "text/plain": [
       "array([[1],\n",
       "       [2]])"
      ]
     },
     "execution_count": 11,
     "metadata": {},
     "output_type": "execute_result"
    }
   ],
   "source": [
    "# Creating two unit vectors\n",
    "i = np.array([[1], [0]])\n",
    "j = np.array([[0], [1]])\n",
    "# Representing vector x in terms of two unit vectors, i and j, respectively\n",
    "x_new = x[0] * i + x[1] * j\n",
    "x_new"
   ]
  },
  {
   "cell_type": "markdown",
   "id": "13d26d77-d91f-4874-b8f7-b68cd2bf0598",
   "metadata": {},
   "source": [
    "## **03. Introduction to Matrices**\n",
    "Matrices are a fundamental concept in linear algebra and are used to represent and manipulate linear systems of equations. In linear algebra, a matrix is a rectangular array of numbers or symbols arranged in rows and columns. The size of a matrix is specified by its dimensions, which are given by the number of rows and columns. For example, a matrix with m rows and n columns is said to have dimensions m x n.\n",
    "\n",
    "Each entry in a matrix is called an element and is identified by its position in the matrix using the row and column indices. The row index is typically denoted by i, and the column index is denoted by j. Thus, the element in the i-th row and j-th column of a matrix A is written as A[i, j].\n",
    "\n",
    "<center><img src=\"http://www.learnattic.com/wp-content/uploads/2019/10/Matrices-concept-representation.jpg\" style=\"max-width:550px; height:auto\"></center>"
   ]
  },
  {
   "cell_type": "markdown",
   "id": "358be9be-6883-47ed-b6da-86fcfddeabd2",
   "metadata": {},
   "source": [
    "### **Elementary Properties**"
   ]
  },
  {
   "cell_type": "markdown",
   "id": "d5de4781-7f04-408b-a335-cbd284ea508f",
   "metadata": {},
   "source": [
    "#### **01. Matrix Creation**"
   ]
  },
  {
   "cell_type": "code",
   "execution_count": 12,
   "id": "02c06158-35c8-46d1-bf2b-a0344df5ed56",
   "metadata": {
    "tags": []
   },
   "outputs": [
    {
     "data": {
      "text/plain": [
       "matrix([[3, 2],\n",
       "        [1, 4]])"
      ]
     },
     "execution_count": 12,
     "metadata": {},
     "output_type": "execute_result"
    }
   ],
   "source": [
    "# Creating a 2x2 matrix\n",
    "A = np.mat([[3, 2], [1, 4]])\n",
    "A"
   ]
  },
  {
   "cell_type": "markdown",
   "id": "f772d2b9-4203-46f5-8772-7ee6b875f5a3",
   "metadata": {},
   "source": [
    "#### **02. Multiplication of a Matrix with a Vector**"
   ]
  },
  {
   "cell_type": "code",
   "execution_count": 13,
   "id": "4a5425f9-bc2a-4a6f-81fb-ce1a975350e8",
   "metadata": {
    "tags": []
   },
   "outputs": [
    {
     "data": {
      "text/plain": [
       "matrix([[7],\n",
       "        [9]])"
      ]
     },
     "execution_count": 13,
     "metadata": {},
     "output_type": "execute_result"
    }
   ],
   "source": [
    "# Multiplying matrix A with vector x\n",
    "matrix_mult_vec = A * x\n",
    "matrix_mult_vec"
   ]
  },
  {
   "cell_type": "code",
   "execution_count": 14,
   "id": "fad2a375-5324-4223-9f52-390af25056cb",
   "metadata": {
    "tags": []
   },
   "outputs": [
    {
     "data": {
      "image/png": "[encoded data removed]",
      "text/plain": [
       "<Figure size 640x480 with 1 Axes>"
      ]
     },
     "metadata": {},
     "output_type": "display_data"
    }
   ],
   "source": [
    "# Plotting the linear transformation of vector x after multiplying with matrix A\n",
    "plt.quiver(0, 0, x[0], x[1], \n",
    "           angles=\"xy\", scale_units=\"xy\", scale=1, color=\"red\", label=\"Original Vector\")\n",
    "plt.quiver(0, 0, matrix_mult_vec[0], matrix_mult_vec[1], \n",
    "           angles=\"xy\", scale_units=\"xy\", scale=1, color=\"green\", label=\"Tranformed Vector\")\n",
    "plt.xlim([0, 8])\n",
    "plt.ylim([0, 10])\n",
    "plt.grid()\n",
    "plt.legend(loc=\"lower right\")\n",
    "plt.show()"
   ]
  },
  {
   "cell_type": "markdown",
   "id": "797f7478-b7f4-475d-8368-8862bcf8e8fc",
   "metadata": {},
   "source": [
    "#### **03. Product or Multiplication of Two Matrices**\n",
    "The product of two matrices is allowed only when the first matrix has the same number of columns as the second matrix has rows."
   ]
  },
  {
   "cell_type": "code",
   "execution_count": 15,
   "id": "d215178c-199e-4794-ad28-8b46dcb9d794",
   "metadata": {
    "tags": []
   },
   "outputs": [
    {
     "name": "stdout",
     "output_type": "stream",
     "text": [
      "Matrix A:\n",
      " [[3 2]\n",
      " [1 4]]\n",
      "Matrix B:\n",
      " [[4 2]\n",
      " [1 3]]\n",
      "Product of A and B:\n",
      " [[14 12]\n",
      " [ 8 14]]\n"
     ]
    }
   ],
   "source": [
    "# Creating another matrix B\n",
    "B = np.mat([[4, 2], [1, 3]])\n",
    "# Printing two matrices\n",
    "print(\"Matrix A:\\n\", A)\n",
    "print(\"Matrix B:\\n\", B)\n",
    "# Calculating the product of two 2x2 matrices\n",
    "print(\"Product of A and B:\\n\", A * B)"
   ]
  },
  {
   "cell_type": "markdown",
   "id": "3dffddff-6b9a-4e69-b4c2-477924304379",
   "metadata": {},
   "source": [
    "#### **04. Properties of Matrix Multiplication**"
   ]
  },
  {
   "cell_type": "code",
   "execution_count": 16,
   "id": "6d2b9e98-912d-4fbe-9bb7-bb7692cd7aec",
   "metadata": {
    "tags": []
   },
   "outputs": [
    {
     "data": {
      "text/plain": [
       "False"
      ]
     },
     "execution_count": 16,
     "metadata": {},
     "output_type": "execute_result"
    }
   ],
   "source": [
    "# Matrix multiplication is not commutative, AB is not equal to BA\n",
    "(A * B) is (B * A)"
   ]
  }
 ],
 "metadata": {
  "kernelspec": {
   "display_name": "Python 3 (ipykernel)",
   "language": "python",
   "name": "python3"
  },
  "language_info": {
   "codemirror_mode": {
    "name": "ipython",
    "version": 3
   },
   "file_extension": ".py",
   "mimetype": "text/x-python",
   "name": "python",
   "nbconvert_exporter": "python",
   "pygments_lexer": "ipython3",
   "version": "3.10.9"
  }
 },
 "nbformat": 4,
 "nbformat_minor": 5
}
