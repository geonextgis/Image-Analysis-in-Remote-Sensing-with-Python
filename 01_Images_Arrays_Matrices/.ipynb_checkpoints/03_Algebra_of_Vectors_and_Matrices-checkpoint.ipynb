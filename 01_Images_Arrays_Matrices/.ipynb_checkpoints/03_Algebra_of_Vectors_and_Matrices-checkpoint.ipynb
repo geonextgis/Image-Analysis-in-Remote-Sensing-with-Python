{
 "cells": [
  {
   "cell_type": "markdown",
   "metadata": {},
   "source": [
    "# **Algebra of Vectors and Matrices**\n",
    "**Author: Krishnagopal Halder**\n",
    "\n",
    "In linear algebra, vectors are fundamental objects used to represent quantities that have both magnitude and direction. A vector can be thought of as an ordered collection of numbers, known as components or coordinates, arranged in a specific order. Each component of a vector represents a coordinate along a particular dimension in a coordinate system. The number of components in a vector determines its dimensionality.\n",
    "\n",
    "Vectors are commonly denoted by lowercase bold letters, such as **v** or **u**, or by lowercase letters with an arrow on top, such as ẋ or ẏ. For example, in a two-dimensional space, a vector **x** can be represented as **x** = [x₁, x₂], where x₁ and x₂ are the components of **x** along the x and y axes, respectively."
   ]
  },
  {
   "cell_type": "markdown",
   "metadata": {},
   "source": [
    "<center><img src=\"https://media5.datahacker.rs/2020/03/Picture36-1-1024x949.jpg\" style=\"max-width:300px; height:auto\"></center>"
   ]
  },
  {
   "cell_type": "markdown",
   "metadata": {},
   "source": [
    "**Vector Representation of Multispectral Image Pixel:** <br>\n",
    "It is very convenient, in fact essential, to use a vector representation for multispectral or SAR image pixels. A pixel can be represented in the form"
   ]
  },
  {
   "cell_type": "markdown",
   "metadata": {},
   "source": [
    "<center>$\\boldsymbol{g}(i, j)=\\left(\\begin{array}{c}g_1(i, j) \\\\ \\vdots \\\\ g_N(i, j)\\end{array}\\right)$</center>"
   ]
  },
  {
   "cell_type": "markdown",
   "metadata": {},
   "source": [
    "which is understood to be a column vector of spectral intensities or gray-scale \n",
    "values at the imag  position (i, j). It can be thought of as a point in N-dimensional Euclidean space, commonly referred to as input space or featur space."
   ]
  },
  {
   "cell_type": "markdown",
   "metadata": {},
   "source": [
    "## **Importing Required Libraries**"
   ]
  },
  {
   "cell_type": "code",
   "execution_count": 1,
   "metadata": {
    "tags": []
   },
   "outputs": [],
   "source": [
    "import numpy as np\n",
    "import matplotlib.pyplot as plt"
   ]
  },
  {
   "cell_type": "markdown",
   "metadata": {},
   "source": [
    "## **Elementary Properties**"
   ]
  },
  {
   "cell_type": "markdown",
   "metadata": {
    "tags": []
   },
   "source": [
    "Consider two column vector with two components, $\\boldsymbol{x}=\\left(\\begin{array}{l}x_1 \\\\ x_2\\end{array}\\right)$ and $\\boldsymbol{y}=\\left(\\begin{array}{l}y_1 \\\\ y_2\\end{array}\\right)$\n",
    "\n",
    "The **transpose** of the vector $\\boldsymbol{x}$ is a row vector, $\\boldsymbol{x}^{\\top}=\\left(x_1, x_2\\right)$\n",
    "\n",
    "The sum of two colum vector is given by, $\\boldsymbol{x}+\\boldsymbol{y}=\\left(\\begin{array}{l}x_1 \\\\ x_2\\end{array}\\right)+\\left(\\begin{array}{l}y_1 \\\\ y_2\\end{array}\\right)=\\left(\\begin{array}{l}x_1+y_1 \\\\ x_2+y_2\\end{array}\\right)$"
   ]
  },
  {
   "cell_type": "code",
   "execution_count": 2,
   "metadata": {
    "tags": []
   },
   "outputs": [],
   "source": [
    "# Creating two column vector with two components\n",
    "X = np.array([[1], [2]])\n",
    "Y = np.array([[3], [4]])"
   ]
  },
  {
   "cell_type": "code",
   "execution_count": 3,
   "metadata": {
    "tags": []
   },
   "outputs": [
    {
     "data": {
      "text/plain": [
       "(array([[1],\n",
       "        [2]]),\n",
       " array([[3],\n",
       "        [4]]))"
      ]
     },
     "execution_count": 3,
     "metadata": {},
     "output_type": "execute_result"
    }
   ],
   "source": [
    "# Printing the vectors\n",
    "X, Y"
   ]
  },
  {
   "cell_type": "code",
   "execution_count": 4,
   "metadata": {
    "tags": []
   },
   "outputs": [
    {
     "data": {
      "text/plain": [
       "array([[1, 2]])"
      ]
     },
     "execution_count": 4,
     "metadata": {},
     "output_type": "execute_result"
    }
   ],
   "source": [
    "# Transpose of X vector\n",
    "X.T"
   ]
  },
  {
   "cell_type": "code",
   "execution_count": 5,
   "metadata": {
    "tags": []
   },
   "outputs": [
    {
     "data": {
      "text/plain": [
       "array([[4],\n",
       "       [6]])"
      ]
     },
     "execution_count": 5,
     "metadata": {},
     "output_type": "execute_result"
    }
   ],
   "source": [
    "# Sum of two column vectors X and Y\n",
    "X + Y"
   ]
  },
  {
   "cell_type": "code",
   "execution_count": 6,
   "metadata": {
    "tags": []
   },
   "outputs": [
    {
     "data": {
      "image/png": "[encoded data removed]",
      "text/plain": [
       "<Figure size 640x480 with 1 Axes>"
      ]
     },
     "metadata": {},
     "output_type": "display_data"
    }
   ],
   "source": [
    "# Plotting the vectors\n",
    "X_comp = X.flatten() # components of X vector\n",
    "Y_comp = Y.flatten() # components of Y vector\n",
    "fig, ax = plt.subplots()\n",
    "ax.quiver(0, 0, X_comp[0], X_comp[1], angles=\"xy\", scale_units=\"xy\", scale=1, color=\"red\")\n",
    "ax.quiver(0, 0, Y_comp[0], Y_comp[1], angles=\"xy\", scale_units=\"xy\", scale=1, color=\"green\")\n",
    "ax.set_xlim([0, 5])\n",
    "ax.set_ylim([0, 5])\n",
    "ax.grid()"
   ]
  }
 ],
 "metadata": {
  "kernelspec": {
   "display_name": "Python 3 (ipykernel)",
   "language": "python",
   "name": "python3"
  },
  "language_info": {
   "codemirror_mode": {
    "name": "ipython",
    "version": 3
   },
   "file_extension": ".py",
   "mimetype": "text/x-python",
   "name": "python",
   "nbconvert_exporter": "python",
   "pygments_lexer": "ipython3",
   "version": "3.10.9"
  }
 },
 "nbformat": 4,
 "nbformat_minor": 4
}
