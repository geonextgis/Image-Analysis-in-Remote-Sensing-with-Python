{
 "cells": [
  {
   "cell_type": "markdown",
   "id": "d07bbacb-4abb-41fc-b58d-2b3bfd3b7244",
   "metadata": {},
   "source": [
    "## **Import Required Libraries**"
   ]
  },
  {
   "cell_type": "code",
   "execution_count": 1,
   "id": "5f991d51-119e-4fa8-b1ad-898ede03ee5b",
   "metadata": {
    "tags": []
   },
   "outputs": [],
   "source": [
    "import numpy as np\n",
    "import pandas as pd\n",
    "import matplotlib.pyplot as plt\n",
    "import seaborn as sns\n",
    "import ee\n",
    "import geemap"
   ]
  },
  {
   "cell_type": "markdown",
   "id": "413b54a5-01bc-4fa9-865f-1f17026d6dcc",
   "metadata": {},
   "source": [
    "## **Set Up Earth Engine**"
   ]
  },
  {
   "cell_type": "code",
   "execution_count": 2,
   "id": "ff96b205-6799-4e10-9945-00c1ac05b1b4",
   "metadata": {
    "tags": []
   },
   "outputs": [],
   "source": [
    "# Authenticating and initializing Earth Engine API\n",
    "# ee.Authenticate()"
   ]
  },
  {
   "cell_type": "code",
   "execution_count": 3,
   "id": "1485adb6-958b-4c72-8937-01ce7a2dda8e",
   "metadata": {
    "tags": []
   },
   "outputs": [],
   "source": [
    "# ee.Initialize()"
   ]
  },
  {
   "cell_type": "code",
   "execution_count": 4,
   "id": "57243389-c958-4611-afd3-375eb43c666f",
   "metadata": {
    "tags": []
   },
   "outputs": [],
   "source": [
    "# Creating a Map object\n",
    "m = geemap.Map(width=\"100%\", height=\"550px\")"
   ]
  },
  {
   "cell_type": "markdown",
   "id": "f65f5775-bc49-42e9-bf67-15ec8a150b5b",
   "metadata": {},
   "source": [
    "## **Add the Region of Interest**"
   ]
  },
  {
   "cell_type": "code",
   "execution_count": 5,
   "id": "66f42adc-8606-4c52-bbbf-40b8880e103b",
   "metadata": {
    "tags": []
   },
   "outputs": [
    {
     "data": {
      "application/vnd.jupyter.widget-view+json": {
       "model_id": "cd77db8d10414e5fb380bbf46ba4126f",
       "version_major": 2,
       "version_minor": 0
      },
      "text/plain": [
       "Map(center=[22.571513360067907, 88.33715550000028], controls=(WidgetControl(options=['position', 'transparent_…"
      ]
     },
     "metadata": {},
     "output_type": "display_data"
    }
   ],
   "source": [
    "# Define the region of interest\n",
    "roi = ee.Geometry.Polygon([[88.282386, 22.519994], \n",
    "                           [88.391925, 22.519994],\n",
    "                           [88.391925, 22.623027],\n",
    "                           [88.282386, 22.623027],\n",
    "                           [88.282386, 22.519994]])\n",
    "# Display the roi\n",
    "m.addLayer(roi, {}, \"Region of Interest\")\n",
    "m.centerObject(roi, 12)\n",
    "m"
   ]
  },
  {
   "cell_type": "markdown",
   "id": "9360b0b1-80f1-482d-b45a-275d143e380d",
   "metadata": {},
   "source": [
    "## **Prepare the Data**"
   ]
  },
  {
   "cell_type": "code",
   "execution_count": 6,
   "id": "d050369e-3fb1-41a8-b5ec-aac0dcc9b8ba",
   "metadata": {
    "tags": []
   },
   "outputs": [],
   "source": [
    "# Import Landsat 8 imagery\n",
    "l8 = ee.ImageCollection(\"LANDSAT/LC08/C02/T1_L2\")\n",
    "\n",
    "# Filter the image collection\n",
    "l8Filtered = l8.filterBounds(roi)\\\n",
    "               .filterDate(\"2022-01-01\", \"2022-12-31\")\\\n",
    "               .filterMetadata(\"CLOUD_COVER\", \"less_than\", 10)\\\n",
    "               .select(\"SR_B.*\")\n",
    "\n",
    "# Create a median composite\n",
    "composite = l8Filtered.median()\\\n",
    "                      .clip(roi)"
   ]
  },
  {
   "cell_type": "code",
   "execution_count": 7,
   "id": "2eae1d2d-03d9-4966-a0aa-455f40c84c33",
   "metadata": {
    "tags": []
   },
   "outputs": [],
   "source": [
    "# Create a function to apply scale factor\n",
    "def applyScaleFactor(image):\n",
    "    return image.multiply(0.0000275).add(-0.2)\n",
    "\n",
    "# Apply the function over the composite image\n",
    "scaled_composite = applyScaleFactor(composite)"
   ]
  },
  {
   "cell_type": "code",
   "execution_count": 8,
   "id": "f4d8f716-f7d0-44d1-a31d-e0c560b7aaa9",
   "metadata": {
    "tags": []
   },
   "outputs": [
    {
     "data": {
      "application/vnd.jupyter.widget-view+json": {
       "model_id": "cd77db8d10414e5fb380bbf46ba4126f",
       "version_major": 2,
       "version_minor": 0
      },
      "text/plain": [
       "Map(center=[22.571513360067907, 88.33715550000028], controls=(WidgetControl(options=['position', 'transparent_…"
      ]
     },
     "metadata": {},
     "output_type": "display_data"
    }
   ],
   "source": [
    "# Display the selected image\n",
    "rgbVis = {\n",
    "    \"min\": 0.0,\n",
    "    \"max\": 0.3,\n",
    "    \"bands\": [\"SR_B5\", \"SR_B4\", \"SR_B3\"],\n",
    "}\n",
    "m.addLayer(scaled_composite, rgbVis, \"Landsat 8 Composite Image\")\n",
    "m"
   ]
  },
  {
   "cell_type": "code",
   "execution_count": 9,
   "id": "d923d990-5499-4900-9204-baba7acb96c1",
   "metadata": {
    "tags": []
   },
   "outputs": [
    {
     "data": {
      "application/vnd.jupyter.widget-view+json": {
       "model_id": "cd77db8d10414e5fb380bbf46ba4126f",
       "version_major": 2,
       "version_minor": 0
      },
      "text/plain": [
       "Map(center=[22.571513360067907, 88.33715550000028], controls=(WidgetControl(options=['position', 'transparent_…"
      ]
     },
     "metadata": {},
     "output_type": "display_data"
    }
   ],
   "source": [
    "# Create a function to add Indices\n",
    "def addIndices(image):\n",
    "    ndvi = image.normalizedDifference([\"SR_B5\", \"SR_B4\"]).rename(\"NDVI\")\n",
    "    mndwi = image.normalizedDifference([\"SR_B3\", \"SR_B6\"]).rename(\"MNDWI\")\n",
    "    ndbi = image.normalizedDifference([\"SR_B6\", \"SR_B5\"]).rename(\"NDBI\")\n",
    "    savi = image.select(\"SR_B5\").subtract(image.select(\"SR_B4\"))\\\n",
    "                .divide(image.select(\"SR_B5\").add(image.select(\"SR_B4\").add(0.5)))\\\n",
    "                .multiply(1.5).rename(\"SAVI\")\n",
    "    \n",
    "    return image.addBands(ndvi)\\\n",
    "                .addBands(mndwi)\\\n",
    "                .addBands(ndbi)\\\n",
    "                .addBands(savi)\n",
    "\n",
    "# Apply the addIndices function over the scaled image\n",
    "withIndices = addIndices(scaled_composite)\n",
    "m.addLayer(withIndices, rgbVis, \"Landsat 8 with Indices\")\n",
    "m"
   ]
  },
  {
   "cell_type": "markdown",
   "id": "53ae878c-ac87-4389-bc1e-97e5b6fdc2e1",
   "metadata": {},
   "source": [
    "## **Export the Imagery to Drive**"
   ]
  },
  {
   "cell_type": "code",
   "execution_count": 10,
   "id": "79da69d7-cd78-4355-91b5-3373ebe34606",
   "metadata": {
    "tags": []
   },
   "outputs": [],
   "source": [
    "# Create a task to export the image\n",
    "task = ee.batch.Export.image.toDrive(image=withIndices.toDouble(),\n",
    "                                     description='Landsat_8_Image',\n",
    "                                     folder=\"GEE\",\n",
    "                                     fileNamePrefix=\"Landsat_8_Image_Kolkata\",\n",
    "                                     region=roi,\n",
    "                                     scale=30,\n",
    "                                     maxPixels=1e10,\n",
    "                                     fileFormat=\"GeoTIFF\")"
   ]
  },
  {
   "cell_type": "code",
   "execution_count": 11,
   "id": "20363a22-2210-408e-8502-09d52317a711",
   "metadata": {
    "tags": []
   },
   "outputs": [],
   "source": [
    "# Start the task\n",
    "# task.start()"
   ]
  }
 ],
 "metadata": {
  "kernelspec": {
   "display_name": "Python 3 (ipykernel)",
   "language": "python",
   "name": "python3"
  },
  "language_info": {
   "codemirror_mode": {
    "name": "ipython",
    "version": 3
   },
   "file_extension": ".py",
   "mimetype": "text/x-python",
   "name": "python",
   "nbconvert_exporter": "python",
   "pygments_lexer": "ipython3",
   "version": "3.11.4"
  }
 },
 "nbformat": 4,
 "nbformat_minor": 5
}
